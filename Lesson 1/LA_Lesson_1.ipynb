{
 "cells": [
  {
   "cell_type": "markdown",
   "metadata": {},
   "source": [
    "**Урок 1. Линейное пространство**"
   ]
  },
  {
   "cell_type": "markdown",
   "metadata": {},
   "source": [
    "__1.__ Исследовать на линейную зависимость:\n",
    "$$f_{1}(x)=e^{x}, f_{2}(x)=1, f_{3}(x)=x+1, f_{4}(x)=x-e^{x}.$$"
   ]
  },
  {
   "cell_type": "markdown",
   "metadata": {},
   "source": [
    "__Решение__\n",
    "\n",
    "$f_{4}(x)=f_{3}(x)-f_{2}(x)-f_{1}(x)$, то есть вектор $f_{4}(x)$ — линейная комбинация векторов $f_{1}(x)$, $f_{2}(x)$ и $f_{3}(x)$, из чего можно сделать вывод, что $f_{4}(x)=x-e^{x}$ и $f_{1}(x)=e^{x}, f_{2}(x)=1, f_{3}(x)=x+1$ линейно зависимы."
   ]
  },
  {
   "cell_type": "markdown",
   "metadata": {},
   "source": [
    "__2.__ Исследовать на линейную зависимость:\n",
    "$$f_{1}(x)=2, f_{2}(x)=x, f_{3}(x)=x^{2}, f_{4}(x)=(x+1)^{2}.$$"
   ]
  },
  {
   "cell_type": "markdown",
   "metadata": {},
   "source": [
    "__Решение__\n",
    "\n",
    "$f_{4}(x)=f_{3}(x)+2f_{2}(x)+0.5f_{1}(x)$, то есть вектор $f_{4}(x)$ — линейная комбинация векторов $f_{1}(x)$, $f_{2}(x)$ и $f_{3}(x)$, из чего можно сделать вывод, что $f_{4}(x)=(x+1)^{2}$ и $f_{1}(x)=2, f_{2}(x)=x, f_{3}(x)=x^{2}$ линейно зависимы."
   ]
  },
  {
   "cell_type": "markdown",
   "metadata": {},
   "source": [
    "__3.__ Найти координаты вектора $x = (2, 3, 5)\\in \\mathbb{R}^{3}$ в базисе $b_{1}=(0, 0, 10)$, $b_{2}=(2, 0, 0)$, $b_{3}=(0, 1, 0)$."
   ]
  },
  {
   "cell_type": "markdown",
   "metadata": {},
   "source": [
    "__Решение__\n",
    "\n",
    "$$x=(2, 3, 5)=(2,0,0)+(0, 3, 0)+(0, 0, 5)=1\\cdot(2, 0, 0)+3\\cdot(0, 1, 0)+0.5\\cdot(0, 0, 10)=b_{2}+3b_{3}+0.5b_{1},$$\n",
    "\n",
    "\n",
    "то есть координатами вектора $x$ в базисе $b_{1}, b_{2}, b_{3}$ являются $0.5$, $1$, $3$."
   ]
  },
  {
   "cell_type": "markdown",
   "metadata": {},
   "source": [
    "__4.__ Найти координаты вектора $3x^{2}-2x+2\\in\\mathbb{R}^{3}[x]$:\n",
    "\n",
    "   а) в базисе $1$, $x$, $x^{2}$;\n",
    "\n",
    "   б) в базисе $x^{2}$, $x-1$, $1$."
   ]
  },
  {
   "cell_type": "markdown",
   "metadata": {},
   "source": [
    "__Решение__\n",
    "\n",
    "a) $b_{1} = 1$, $b_{2} = x$, $b_{3} = x^{2}$"
   ]
  },
  {
   "cell_type": "markdown",
   "metadata": {},
   "source": [
    "$3x^{2}-2x+2 = 3b_{3} - 2b_{2} + 2b_{1}$"
   ]
  },
  {
   "cell_type": "markdown",
   "metadata": {},
   "source": [
    "Координата вектора $3x^{2}-2x+2$ в базисе $b_{1} = 1$, $b_{2} = x$, $b_{3} = x^{2}$ : $(2, -2, 3)$"
   ]
  },
  {
   "cell_type": "markdown",
   "metadata": {},
   "source": [
    "б) $b_{1} = x^{2}$, $b_{2} = x-1$, $b_{3} = 1$"
   ]
  },
  {
   "cell_type": "markdown",
   "metadata": {},
   "source": [
    "$3x^{2}-2x+2 = 3b_{1} - 2b_{2} + 0b_{1}$"
   ]
  },
  {
   "cell_type": "markdown",
   "metadata": {},
   "source": [
    "Координата вектора $3x^{2}-2x+2$ в базисе $b_{1} = x^{2}$, $b_{2} = x-1$, $b_{3} = 1$ : $(0, -2, 3)$"
   ]
  },
  {
   "cell_type": "markdown",
   "metadata": {},
   "source": [
    "__5.__ Установить, является ли линейным подпространством:\n",
    "\n",
    "а) совокупность всех векторов трехмерного пространства, у которых по крайней мере одна из первых двух координат равна нулю;\n",
    "    \n",
    "б) все векторы, являющиеся линейными комбинациями данных векторов $\\{u_{1}, u_{2}, ..., u_{n}\\}$."
   ]
  },
  {
   "cell_type": "markdown",
   "metadata": {},
   "source": [
    "a) является линейным пространством"
   ]
  },
  {
   "cell_type": "markdown",
   "metadata": {},
   "source": [
    "$$(0, a, b)+(0, c, d) = (0, a+c, b+d),$$ $$\\alpha\\cdot (0, a, b) = (0, \\alpha a, \\alpha b).$$\n",
    "\n",
    "$$(a, 0, b)+(c, 0, d) = (a+c, 0, b+d),$$ $$\\alpha\\cdot (a, 0, b) = (\\alpha a, 0, \\alpha b).$$\n",
    "\n",
    "$$(0, 0, b)+(0, 0, d) = (0, 0, b+d),$$ $$\\alpha\\cdot (0, 0, b) = (0, 0, \\alpha b).$$\n",
    "\n",
    "\n",
    "Полученные векторы также принадлежат указанному в задании множеству всех векторов вида $(0, a, b)$, $(a, 0, b)$, $(0, 0, b)$ то есть данные множества являются подпространством линейного пространства $\\mathbb{R}^{3}$"
   ]
  },
  {
   "cell_type": "markdown",
   "metadata": {},
   "source": [
    "б) нет, не является, так как координаты векторов $\\lambda_{1}u_{1}+\\lambda_{2}u_{2}+...+\\lambda_{n}u_{n}$: $(\\lambda_{1}, \\lambda_{2}, ..., \\lambda_{n})$ не удовлетворяют правилу сложения и умножению на число\n",
    "$$(\\lambda_{1}, \\lambda_{2}, ..., \\lambda_{n})+(\\alpha_{1}, \\alpha_{2}, ..., \\alpha_{n}) = (\\lambda_{1}+\\alpha_{1}, \\lambda_{2}+\\alpha_{2}, ..., \\lambda_{n}+\\alpha_{n}),$$ $$\\alpha\\cdot (\\lambda_{1}, \\lambda_{2}, ..., \\lambda_{n}) = (\\alpha\\cdot\\lambda_{1}, \\alpha\\cdot\\lambda_{2}, ..., \\alpha\\cdot\\lambda_{n}).$$"
   ]
  },
  {
   "cell_type": "markdown",
   "metadata": {},
   "source": [
    "**2 часть**"
   ]
  },
  {
   "cell_type": "markdown",
   "metadata": {},
   "source": [
    "__1.__ Найти скалярное произведение векторов $x, y \\in \\mathbb{R}$:<br>\n",
    "а) $x=(0,-3, 6),~y=(-4, 7, 9);$<br>\n",
    "б) $x=(7, -4, 0, 1),~y=(-3, 1, 11, 2).$"
   ]
  },
  {
   "cell_type": "markdown",
   "metadata": {},
   "source": [
    "a) $$(x,y)=0\\cdot(-4)-3\\cdot7+6\\cdot9=0 - 21 + 54=33.$$"
   ]
  },
  {
   "cell_type": "markdown",
   "metadata": {},
   "source": [
    "б) $$(x,y)=7\\cdot(-3)-4\\cdot1+0\\cdot11+1\\cdot2=-21 - 4 + 0 + 2=-23.$$"
   ]
  },
  {
   "cell_type": "markdown",
   "metadata": {},
   "source": [
    "__2.__ Найти нормы векторов $(4, 2, 4)$ и $(12, 3, 4)$ и угол между ними."
   ]
  },
  {
   "cell_type": "markdown",
   "metadata": {},
   "source": [
    "Определим евклидову норму векторов:\n",
    "\n",
    "$$\\left\\|x\\right\\|_{2} = \\sqrt{4^{2}+2^{2}+4^{2}}=\\sqrt{36}=6.$$\n",
    "$$\\left\\|x\\right\\|_{2} = \\sqrt{12^{2}+3^{2}+4^{2}}=\\sqrt{169}=13.$$"
   ]
  },
  {
   "cell_type": "markdown",
   "metadata": {},
   "source": [
    "$$cos\\varphi = \\frac{(x,y)}{\\left \\|x\\right \\|\\cdot\\left \\|y\\right \\|}.$$"
   ]
  },
  {
   "cell_type": "markdown",
   "metadata": {},
   "source": [
    "$$cos\\varphi = \\frac{4\\cdot12+2\\cdot3+4\\cdot4}{\\sqrt{4^{2}+2^{2}+4^{2}}\\sqrt{12^{2}+3^{2}+4^{2}}}=\\frac{70}{78}\\approx 0.897$$"
   ]
  },
  {
   "cell_type": "code",
   "execution_count": 5,
   "metadata": {},
   "outputs": [],
   "source": [
    "import numpy as np\n",
    "from numpy.linalg import norm"
   ]
  },
  {
   "cell_type": "code",
   "execution_count": 6,
   "metadata": {},
   "outputs": [],
   "source": [
    "a = np.array([4, 2, 4])\n",
    "b = np.array([12, 3, 4])"
   ]
  },
  {
   "cell_type": "code",
   "execution_count": 7,
   "metadata": {},
   "outputs": [
    {
     "name": "stdout",
     "output_type": "stream",
     "text": [
      "Косинус угла между a и b: 0.90\n",
      "Угол между a и b: 0.46\n"
     ]
    }
   ],
   "source": [
    "cos_phi = np.dot(a, b) / norm(a) / norm(b)\n",
    "print(f'Косинус угла между a и b: {cos_phi:.2f}')\n",
    "print(f'Угол между a и b: {np.arccos(cos_phi):.2f}')"
   ]
  }
 ],
 "metadata": {
  "kernelspec": {
   "display_name": "Python 3",
   "language": "python",
   "name": "python3"
  },
  "language_info": {
   "codemirror_mode": {
    "name": "ipython",
    "version": 3
   },
   "file_extension": ".py",
   "mimetype": "text/x-python",
   "name": "python",
   "nbconvert_exporter": "python",
   "pygments_lexer": "ipython3",
   "version": "3.7.6"
  }
 },
 "nbformat": 4,
 "nbformat_minor": 4
}
